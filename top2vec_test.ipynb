{
 "cells": [
  {
   "cell_type": "markdown",
   "id": "20952cb8-ee99-4183-9e06-711ccb1b9370",
   "metadata": {},
   "source": [
    "# Using Top2Vec to categorize our documents\n",
    "We can use a library called Top2Vec to try and categorize our documents. Top2Vec is an open source library that uses an ML model to vectorize and topic model a collection of documents."
   ]
  },
  {
   "cell_type": "code",
   "execution_count": null,
   "id": "455d1b61-4b8b-4098-8ad5-4febb26e6248",
   "metadata": {},
   "outputs": [],
   "source": [
    "from top2vec import Top2Vec\n",
    "import os\n",
    "\n",
    "master = []\n",
    "for article in os.listdir('./25-all-embed'):\n",
    "    with open('./25-all-embed/' + article, 'r', encoding='utf-8', errors='ignore') as f:\n",
    "        master.append(f.readlines()[0])"
   ]
  },
  {
   "cell_type": "markdown",
   "id": "75045a7e-b4a2-4ed5-af93-623c9fd373cc",
   "metadata": {},
   "source": [
    "#### Running the model"
   ]
  },
  {
   "cell_type": "code",
   "execution_count": 130,
   "id": "c29eee17-1106-4b51-b2ce-59954c52adf0",
   "metadata": {},
   "outputs": [
    {
     "name": "stderr",
     "output_type": "stream",
     "text": [
      "2022-08-18 10:05:47,845 - top2vec - INFO - Pre-processing documents for training\n",
      "2022-08-18 10:05:48,089 - top2vec - INFO - Creating joint document/word embedding\n",
      "2022-08-18 10:05:49,454 - top2vec - INFO - Creating lower dimension embedding of documents\n",
      "2022-08-18 10:05:50,344 - top2vec - INFO - Finding dense areas of documents\n",
      "2022-08-18 10:05:50,348 - top2vec - INFO - Finding topics\n"
     ]
    }
   ],
   "source": [
    "model = Top2Vec(master)"
   ]
  },
  {
   "cell_type": "markdown",
   "id": "c8e85981-dfea-4ffd-8aa6-16047105a97b",
   "metadata": {},
   "source": [
    "#### See how many topics the model thinks there are\n",
    "And we can also look at how many documents it attributes to each model"
   ]
  },
  {
   "cell_type": "code",
   "execution_count": 131,
   "id": "7462632a-9cee-41a8-8ea5-eff84290049b",
   "metadata": {},
   "outputs": [
    {
     "data": {
      "text/plain": [
       "6"
      ]
     },
     "execution_count": 131,
     "metadata": {},
     "output_type": "execute_result"
    }
   ],
   "source": [
    "model.get_num_topics()"
   ]
  },
  {
   "cell_type": "code",
   "execution_count": null,
   "id": "ae513206-3de2-4acc-9a29-05d4b41f31a3",
   "metadata": {
    "jupyter": {
     "source_hidden": true
    },
    "tags": []
   },
   "outputs": [],
   "source": []
  },
  {
   "cell_type": "code",
   "execution_count": 133,
   "id": "19e4608a-e81a-4911-83de-1983201ba1ac",
   "metadata": {},
   "outputs": [
    {
     "data": {
      "text/plain": [
       "array([96, 82, 43, 41, 39, 38])"
      ]
     },
     "execution_count": 133,
     "metadata": {},
     "output_type": "execute_result"
    }
   ],
   "source": [
    "topic_sizes, topic_nums = model.get_topic_sizes()\n",
    "topic_sizes"
   ]
  },
  {
   "cell_type": "markdown",
   "id": "0be3e3fe-e159-4751-a1cd-65cd09dc64df",
   "metadata": {},
   "source": [
    "#### Taking a look at each topic\n",
    "If you want to look at each topic, simply change the variable \"topic_num\" to the values 0-5 and run the cell."
   ]
  },
  {
   "cell_type": "code",
   "execution_count": 139,
   "id": "f5e59b2b-04a9-41cd-b5f5-640251aa8f60",
   "metadata": {},
   "outputs": [
    {
     "name": "stdout",
     "output_type": "stream",
     "text": [
      "Document: 263, Score: 0.9429418444633484\n",
      "-----------\n",
      "\"Hitler Would Kill All Jews, Speaker Says PHILADELPHIA, Dec. 14. (AP) The purpose of the Nazi Partyls not to destroy the Jewish people of Germany but, to destroy Jews - every w here,\\\" - Dr. Maurice S. Perlzweig, head of the English section of the World Jewish Conference, declared in a speech here last night. He spoke at a mass meeting in the Benjamin Franklin Hotel. Our first reply must not be 'wailing or mouming at our lot, but to hit back. Each of us must contribute his maximum to winning the war and to the total destruction of Hitler,, Dr. Perlzweig said. The meeting adopted a four-point resolution urging condemnation by the United Nations of -WillWin- announced\n",
      "-----------\n",
      "\n",
      "Document: 334, Score: 0.9424856305122375\n",
      "-----------\n",
      "\"-BIG, BRAVE\\\" NAZIS TURN TO JEWISH CHILDREN London (INS) Adding .a more vi cious and brutal note to its oppres sion of Jews, Nasi authorities in Paris are rounding up Jewish chll- . ...liii . l . .area in rans ana suc-jecunB w aieniuaMva weaunnm. w, mirror declared today to a dls- patch from Vichy. Simultaneously with this'- report, off ices of the British section of the World Jewish Congress declared that , one million of seven miyfon Jews In the Naal-oocupled nations have been murdered. ,\n",
      "-----------\n",
      "\n",
      "Document: 77, Score: 0.937143087387085\n",
      "-----------\n",
      "\"Agentinean Says Nazis Set for Gas Warfare TORONTO, Dec. 18. JP) Ernest R. Fiaggio, Argentine consul attache in Toronto, who was in Berlin five months ao, said today he believes the nazis are planning gas warfare. He said \\\"every house In Berlin, street by street, has been outfitted or Is being outfitted with ft gas chamber. \\\"Would the nazis use their depleted manpower for such purposes if they did not think it necessary?\\\" he asked. \\\"Would the authorities waste needed materials on such a project? That is why we feel fearful about gas warfare.\\\" Mr. Piaggio said stories Canadians hear about persecutions of the Jews in Germany and Toland are mild compared with the real facts. He said the German morale showed no signs of cracking because the people know they must fight to the end or lose all. He added they retain faith in Hitler as a leader, not ft general and through the medium of fear they still follow nail party edits.\n",
      "-----------\n",
      "\n",
      "Document: 213, Score: 0.9300990104675293\n",
      "-----------\n",
      "\"pub-world? chan-dclible dip-etc. l il- the!of L1 estimated at 3o0, were Magi- ishot- Ger-i Ten were executed m Prague and ,ei?ht m Bruenn, the announcement ) pre- a illus- ofjfering bitterly from the (British) in!raids.\\\" is to ofisince the fatal wounding of Rein-historv. i harc Heydrich by Czech patriots. the;This total did not count the persons for;kllled 'hen a11 males m the town NAZIS PLAN MASS MURDER OF JEWS Goebbels Promises Their Ex-termination to 'Avenge' RAF Raids BERLIN, June 13 (German broadcast recorded by United Press in New York) . Propaganda Minister Paul Joseph Goebbels said last night that Germany will carry out a mass \\\"extermination\\\", of Jews in reprisal for the Allied air bombings of Ger- J have caused h damage uU yv.wi, ovmiCU6tu, Onfhhpl.: In nn nrtiplo in tho lication ..js Reich,\\\" said the Jews' would be exterminated throughout Europe \\\"and perhaps even beyond i Europe\\\" in retaliation for the heavy ! i air jauitg j i He said the Jews had, by their \\\"frivolousr play,\\\" incited British and American airmen to bomb German cities heavily. Goebbels' threat of retaliation against the 1,000-plane devastation raids on Cologne, Essen and other German war centers and his refer- Jews \\\"beyond Europe\\\" might mean big-scale German air attacks or perhaps anti -Jewish terrorism carried out by Germany's allies out- i side Europe perhaps in Japan. \\\"We never doubted that the heaviest damage could be caused to us by air raids,\\\" Goebbels wrote. \\\"But this will not change the military situation. \\\"The German population is suf- LONDON, June German-controlled announced tonight more Czechs had 12 (AP) The Prague radio that eighteen been executed, bringing the reprisal total to 358 ' sald- Tvo vere women. \\\" ; -----... i 1\n",
      "-----------\n",
      "\n",
      "Document: 253, Score: 0.9112685322761536\n",
      "-----------\n",
      "\"U. S. CONDEMNS NAZI PERSECUTION OF JEWS B? Th Associate Press. WASHINGTON, Dec. 17 The United States today joined other United Nations governments in condemning Germany's \\\"bestial policy of cold - blooded extermination\\\" of the Jews and in pledging that those responsible \\\"shall not escape retribution.\\\" Announcing the move, the state department said reports from Eu rope Indicate that German authorities, passing beyond the stage of ordinary persecution, \\\"now are carrying into effect Hitler's oft - repeated intention to exterminate the Jewish people in Europe.\n",
      "-----------\n",
      "\n",
      "Document: 84, Score: 0.9091097116470337\n",
      "-----------\n",
      "\"Fish Shocked By Slayihg of Jews by Nazis WASHINGTON (n Rep. Fish ( R-N. Y. ) told - Secretary of State Cornell Hull in a letter made pub lic yesterday that he was pro foundly shocked\\\" by statements of the \\\"alleged slaughter of 7000 Jews daily by the Nazis, in conquered territories.\\\" y He asked for suggestions, \\\"that might help to put a stop to the massacre of Jews in Central and Eastern Europe.\\\" \\\"Is there not some action, be asked, \\\"that may be taken by the United States Congress and the Administration, that will end these pogroms of Jews in Poland and Eastern Europe? Would it be possible to enlist the support of such neutrals as Sweden, Switzer land, Spain and Turkey?\\\" . Fish added that he was in favor of giving the Jewish people arms and equipment and opportunity to fight in Palestine, North Africa and to participate In the Allied invasion of Europe.\\\"\n",
      "-----------\n",
      "\n",
      "Document: 338, Score: 0.9064554572105408\n",
      "-----------\n",
      "\"PUT CURSE ON AXIS Jerusalem, Dec. 4 UP) Reviving one of most ancient rites of Israel, Jewish rabalist scholars gathered in the ok! city last night and solemnly pronounced a curse on Hitler, Gocring, Himmler and Goebbels and their descendents. The ceremony, in which the direst maledictions were pronounced, was among many demonstrations throughout Palestine in protest against the mass executions of Jews by Nazis,\n",
      "-----------\n",
      "\n",
      "Document: 27, Score: 0.9035433530807495\n",
      "-----------\n",
      "\"Call on jews to Avenge Systematic Nazi Killings Jerusalem No-. 2i . Rapor of ne:.-.r ivad rel iee describir. -he -n. -...-.r.r of jei in . Nati-orrupird Europe toucha off a -por.diii . .. : M.on'odayat Tel-Aw. !... ..;.eiupor. every mar. and woman to avenge ne deaths. Refutaai repu ad thai -he earn-paigni tn Bu ana rata ..e;v :o re-\n",
      "-----------\n",
      "\n",
      "Document: 155, Score: 0.8945908546447754\n",
      "-----------\n",
      "\"LAKUIniAL UtrLUttta JEWISH PERSECUTION PHILADELPHIA. Dec. II m Dennis Cardinal Dougherty, archbishop of Philadelphia, said today that \\\"the horrible persecution of the Jews . . . holds up to worldwide execration the authors of such inhuman slaughter.\\\" His Eminence made his remarks in a letter to Abraham N. Gerbovoy, executive director- of the Philadelphia Council. American Jewish Congress, and secretary of a committee arranging a mass protest meeting Sunday against extermination of the Jewish population in Europe. \\\"It seems unbelievable that such fiendish bloodthirstiness could exist,\\\" Cardinal Dougherty declared. \\\"Surely the fate of Haman related in the seventh chapter of the Book of Esther will sooner or later overtake promiscuous shedders of blood.\\\"\n",
      "-----------\n",
      "\n",
      "Document: 48, Score: 0.8937212228775024\n",
      "-----------\n",
      "\"Scholars Put Curse on Hitler JERUSALEM (UP). Revivine one of the most ancient rites of Israel, Jewish cabelist echolars gathered in the Old City oil Jerusalem Wednesday night and solemnly pronounced a curse on Hitler, Goer-ihg, Himmler and Goebbels and their descendants. The ceremony in which the maledictions were pronounced was among many demonstrations throughout Palestine in Droiest against the mass executions of lews by Nesta The demonstrations were accompanied by a general last. work StOppagis and special prayers.\n",
      "-----------\n",
      "\n",
      "Document: 59, Score: 0.8914225697517395\n",
      "-----------\n",
      "\"Jewish Extermination Set, Palestine Hears JERUSALEM,' PALESTINE. Dec. 24. Hitler's fresh plans for final extermination of the remnants of Jewish communities in Nazi Europe are given Thursday in what purports to be authoritative information reaching official Jewish quarters in Jerusalem underground channels through It is asserted that the Nazis are concentrating Jews within ghettos In 53 towns in Poland where their methodical annihilation as part of the process begun July 15, 1942 is to be undertaken. Any Jew found outside hose ghettos will be shot.\n",
      "-----------\n",
      "\n",
      "Document: 53, Score: 0.885878324508667\n",
      "-----------\n",
      "\"Jews Set Dec. 13 As Day of Mourning NEW YORK, Nov. 25 (A. P.). Dr. Stephen S. Wise, president of tha American Jewish Congress, said today a special conference commit ter of international Jewish organizations had set Dec. 13 as a day of mourning, fasting and prayer in protest against a new Nazi anti- Jewish atrocity program of which he had proof from the State De- pa rtment.\n",
      "-----------\n",
      "\n",
      "Document: 96, Score: 0.8805184364318848\n",
      "-----------\n",
      "\"President Shocked By Nazi Jewish Killings WASHINGTON. Dec. 8. (UP President Roosevelt told a group ol prominent Jews Tuesday that he wa: profoundly shocked to learn of tht death of 2,000.000 Jews at the hand; of Nazis in Europe. A Jewish delegation cauea at tnc White House to submit to Mr. Roosevelt a memorandum on the increasingly cruel treatment, of Jews by th Germans and to appeal to him tt make a new warning to the Nazis thai they will be held to strict accunt-ability for their crimes.\n",
      "-----------\n",
      "\n",
      "Document: 67, Score: 0.8775668144226074\n",
      "-----------\n",
      "\". ; Uni-. ; Resent Declaration of Con-of j jrressmen Favoring- Jewish significance.- r, . 1, . : lommonwealtft ! nt. rcTI,T iinrcc ; ALLS I IJL 1 KfcSS popu-; tvIIICltiC.S ; ; New York (JTA) Mayor of ; a number of Arab cities in Pales-nation tine held a conference to protest j against the joint declaration ub-punity ! mitted early this month to Presi-or ' dent Roosevelt by 62 members of j the U. S. Senate and 182 members . of the House of Representatives, i fvorn th restoration of the Jwilhm National Home m Pales-warning '. \\\" . Th conference decided to ; ubmit a protest to the U. S. ; government through the American j consul-general in Jerusalem and to f s?n(1L rv of the same protest j the high commissioner for PaJ-this ! foT transmission t the British government :n London. j in thu City of Gaza, all Arab 1 merchants closed their stores as '; n expression of protest. Other demonstrations are expected. Es-ing peciaily active in organizing pro-tion j tests against the efforts nndertak-by j en in Araenca to secure post-war Jewish rights in Ptine are the j mayors of Nablus, Jemn. Tulkarem ; and Gaza. The Hebrew press in Palestine ! carried articles severely criticizing '. the Arab leaders for their inten-the sified campaign against Jewish i and non-Jewish activities in Amer-\\\"thousanda ica in behalf of th. Zionist de-and t mands for the establishment of a Jewish Commonwealth In Palcs- ' tine. The Davar, leading Jewish newspaper, reprimands the Arabs for their complete indifference to j the Nazi mass extermination of ! Jews in Europe. ; \\\"The Nazi slaughter of Jews \\\" . the pap.r wrteg hM foufjd on the slightest echo in the Arab press in Palestine. Even the i mourning of the Jewa in Pales-entire j tine was only mentioned en-pas-conimenting state-i nant. The Arab newspapers did re-; not vhlish a single article con-leased In-f cerning the fact that Jews are be-formatlon fea-\\\".ing killed in the hundreds of thoa-tured j sands by thr Nazis. Instead, the atro-! .Arah press shou'j ngainst Ar.ier-cities Po-; ican sympathy which ha been ex- ! pressed in speeches and memoran-vakia, !dums by Wendell L. Willkie and state-, other Americans, and even attacks j Dr. Weizmann for his addresses : in the United States, Declaring that \\\"Arab journalists interpret the cry of the Jews in their despair as nothing but a po-In litical maneuver,\\\" Davar says that punish-j the conclusion tbe Arab writers have appurently reached is that tiir r s PALESTINE ARABS PROTEST AMERICAN CONCERN FOR JEWS\n",
      "-----------\n",
      "\n",
      "Document: 82, Score: 0.8774328827857971\n",
      "-----------\n",
      "\"Cuba Jewry Protests Nazi Semitic Decree HAVANA. Cuba. Dec. 2. (Special.) Cuban Jewry spent Wednesday in mourning as a protest against the Nazi plan to exterminate all Jews Germany and the German occupied cotintries by December 31. All business establishments owned by Jews were closed. Several thousand marched to the national cantol and petitioned gress. President Fulgencio Batista and tne uuban people to join in tne protest.\n",
      "-----------\n",
      "\n",
      "Document: 119, Score: 0.8762449622154236\n",
      "-----------\n",
      "\"Rabbi Urges World Pact Rabbi Meyer Cohen, delivering the keynote address at the meeting of protest against the extermination of European Jews by the Nazis at the Synagog Sons of Israel here last night said that after the war an international agreement outlawing anti-Semitism thruout the world must be drawn up and agencies created to see to it that the laws are carried out. This would be similar to laws prevailing in Denmark before the war, he said, which made anti-Semitism a crime against the government. Senator Haydn Proctor deplored the remnants of isolationism which lie said still exist in this country. He stated that there is a complete lack of understanding by many people in this country of the Jewish problem. He asked for vigilance to stamp out persecution of any race in any part of the world. Mayor Clarence V. Mooney. in a brief address, promised that the city administration would lend whole-hearted support to any effort to stamp out anti-Semitism. Asks Warning to Nazis Rabbi Cohen urged that the United Nations issue a strongly-worded warning to the Nazi rulers that they will have to give an accounting of their treatment of the Jews on the \\\"day of reckoning, the day of judgment\\\" when the war is won and that all atrocities committed now would cost dearly later. He said that this might act as a deterrent of violent anli-Semitic actions on the part of the Nazis. Rabbi Cohen said that the purpose of the meeting were \\\"to give collective expression to our sorrow and to voice indignation over the crimes and their Nazi perpetrators and .-o awaken the slumbering conscience of humanity.\\\" He said that the U. S. state department has definite information that the Nazis are going to put into operation a plan to kill off Jews in Nazi-dominated territory within the next 90 days. \\\"Six million Jews are facing total extermination: six million Jews are actually walking in the very shadow of death.\\\" he declared. Benjamin Friedman, president of the congregation summed up the condition of Jews in Europe and said that one and one-half million already had been killed in Europe since the beginning of the war. Police Magistrate Louis Levin-iSee RABBI Page 3)\n",
      "-----------\n",
      "\n",
      "Document: 29, Score: 0.8760673999786377\n",
      "-----------\n",
      "\"Nazi Extermination Of Jews Policy Condemned by US Washington -H JP — The United States today Joined other United Nations governments in condemning Germany’s “bestial policy of cold-blooded extermination\\\" of the Jews and pledging that those responsible “shall not escape retribution” j In announcing the move the State Department said reports from Europe indicated that German authorities passing beyond the stage of ordinary persecution \\\"are now carrying into effect Hitler’s oft repeated intention to exterminate the Jewish people in Europe” Associated with fthe United States in the joint action were the Belgian Czechoslovak Greek Luxembourg Netherlands Norwegian Polish Soviet United Kingdom and Yugoslav governments ! and the French National (Fighting French) Committee\n",
      "-----------\n",
      "\n",
      "Document: 13, Score: 0.875943124294281\n",
      "-----------\n",
      "\"Evidence Of Anti-Semitism Here, Says Rev. Alexander Pastor Of Lyndhurst Methodist Church Declares In His Town And Other Towns Declaring that anti-Semitism is creeping like alien venom Into many communities and that there Is evidence it in Lyndhurst, the Rev. Gross Alexander of Lyndhurst Methodist Church disclosed today that the official board of his church has resolved to do all In its power to thwart Hitler's plan to exterminate Europe's Jews and that further. Lyndhurst Methodists will do all In their power to roster better relations between Jews and Christians. Rev. Atatrld\\\"0\\\" special! JAPANESE WILL BE resolution embodying tne oeiiei on the board members was adopted IN RACIAL DEBATE\n",
      "-----------\n",
      "\n",
      "Document: 191, Score: 0.8738498687744141\n",
      "-----------\n",
      "\"FOR MISTREATMENT OF JEWS Blames 4 Talk Tonight By Lewisohn For their treatment of Jews, the German people should go down in history \\\"damned together,\\\" the eminent Ameri can Jew, Dr. L u d w i g Lewisohn. said here Tuesday. Dr. Lewisohn. rn a midwest lecture tour, will speak at S:15 p. rn. Tuesday at the Jewish Community center. Co n f e s s i n g that his wholesale denunciation mi was ' hard for me i.nviMwix. tn have to sav,\\\" the German-born philosopher and author added Fterr.ly, \\\"I can't let a single one cf them off:\\\" \\\"Did Nothing.\\\" Phartrg th \\\"ilt of the mil- linns who followed the Nazi lead in persecution, he said, were \\\"the v IS. t - W ha fcdirriiir Mam m i All the millions in Germany w ho did nothing.\\\" \\\"Anti-Semitism, however, is a problem of the Christian people not ours,\\\" Dr. Lewisohn said. \\\"The only thing for our people to do is to withdraw from those countries dominated by classes which hate the Jews and build our destiny in our homeland Palestine.\\\" The repatriation of the Jews in Palestine, he said, not only has proved successful with the 600,000 Jews already there, but would offer a solution for thousands of other homeless Jews. Two Million. \\\"Our economists have studied jthis problem for years,\\\" he said, ; \\\"There is ample room for two mil-llion persons in southern Palestine and this would be no more pop ulated than other countries, such as Belgium What friction there has been between the native Arabs and Jews in Palestine, he blamed on \\\"Italian propaganda and the nongovernment of the British.\\\" \\\"But the Arabs still are living in the thirteenth century instead Germans of the twentieth,\\\" he said. \\\"When they have progressed to modern times, as they will, there will be no trouble.\\\" Prejudices. Asked if he thought anti-Semitic prejudices in America had lessened in wartime, Lewisohn's answer was a flat \\\"No.\\\" But he added as a quick afterthought, \\\"Except in our armed forces. There, I am glad to say, our Jewish men have received their share of fair promotions and opportunities.\\\" Not with Lewisohn on this tour of a score or more lectures was his wife, the former Edna Manley, one-time Rochester, N. Y., newspaper woman. Strenuous. \\\"My wife accompanied me on a recent California tour,\\\" he said, \\\"but there I had eight lecture en gagements in a month.\\\" He added wearily, \\\"This one- night stand business is different.' The Lewisohns at present are living in Tucson, Ariz. This is the scholar and critic's third visit in Des Moines; he spoke at the Jewish Community center in 3 038 and in 1935 before the Des Moines Women's club. a\n",
      "-----------\n",
      "\n",
      "Document: 118, Score: 0.8730648159980774\n",
      "-----------\n",
      "\"Q i - L --i! -J UN Hill VdlUlliai l\\\"N k UenOUnCeS INaZIS i . IMl . rOT J 6W ixlllinG j y LONDON, Dec. 8 CE) Arthur ! Cardinal Tnalv archiahnn of . Westminster, denounced today the I nazi persecution or me jews ana i their apparent plan to turn Fo- into a -vast cemetery for the ! ewSQ population of Europe.\\\" H . ,t v ic t the I loud denunciation by the catholic bishops and peoples or France, Italy, and other countries against the brutal persercution of the Jews,' the cardinal said in a er-mon in Westminster cathedral on the occasion of the catholic day of prayer for Poland. \\\"Poland has witnessed acts of such savage race hatred that it appears fiendishly planned to be turned into a vast cemetery for ; ia jewisa population oi jcurope. f We appeal insistently for human J feelings and for the christian sense lor justice of the whole civilized worsi that a speedy end will be \\\"vim uiii a spceujr erm wu n , s-made to this wholesale campaign of extermination.\\\"\n",
      "-----------\n",
      "\n"
     ]
    }
   ],
   "source": [
    "documents, document_scores, document_ids = model.search_documents_by_topic(topic_num=0, num_docs=20)\n",
    "for doc, score, doc_id in zip(documents, document_scores, document_ids):\n",
    "    print(f\"Document: {doc_id}, Score: {score}\")\n",
    "    print(\"-----------\")\n",
    "    print(doc)\n",
    "    print(\"-----------\")\n",
    "    print()"
   ]
  },
  {
   "cell_type": "code",
   "execution_count": null,
   "id": "9e5c2ff2-6ebd-489e-8e17-6696f0f17c1c",
   "metadata": {},
   "outputs": [],
   "source": []
  }
 ],
 "metadata": {
  "kernelspec": {
   "display_name": "Python 3 (ipykernel)",
   "language": "python",
   "name": "python3"
  },
  "language_info": {
   "codemirror_mode": {
    "name": "ipython",
    "version": 3
   },
   "file_extension": ".py",
   "mimetype": "text/x-python",
   "name": "python",
   "nbconvert_exporter": "python",
   "pygments_lexer": "ipython3",
   "version": "3.9.10"
  }
 },
 "nbformat": 4,
 "nbformat_minor": 5
}
